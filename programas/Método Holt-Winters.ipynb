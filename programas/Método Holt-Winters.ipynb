{
 "cells": [
  {
   "cell_type": "markdown",
   "metadata": {},
   "source": [
    "# Método Holt-Winters\n",
    "\n",
    "Es un método para capturar la estacionalidad. Comprende la ecuación de pronóstico y tres ecuaciones de suavizado, una para el nivel \\\\(I_t\\\\), una para la tendencia \\\\(si_t\\\\) y uno para el componente estacional \\\\(s_t\\\\). Con sus parámetros correspondientes de suavizado \\\\( \\alpha, \\beta^*\\\\) y \\\\( \\gamma \\\\). Usaremos \\\\( m \\\\) para denotar la frecuencia de la estacionalidad.\n",
    "\n",
    "## Estacionalidad\n",
    "\n",
    "Si una serie parece ser repetitiva a intervalos regulares, dicho intervalo se denomina estación y se dice que la serie es estacional. Esta debe existir para que método Holt-Winters funcione.\n",
    "Tenga presente que las series no estacionales no se pueden pronosticar con este método, por ejemplo las acciones. \n",
    "\n",
    "Utilizaremos el método aditivo de Holt-Winters. \n",
    "\n",
    "### Bibliografía\n",
    "[Engineering Statistics Handbook](https://www.itl.nist.gov/div898/handbook/pmc/pmc.htm)\n",
    "\n",
    "[Forecasting Principles and Practice](https://otexts.com/fpp2/)\n",
    "\n",
    "[Conversión a series estacionarias](https://estrategiastrading.com/series-estacionarias/)"
   ]
  },
  {
   "cell_type": "code",
   "execution_count": null,
   "metadata": {},
   "outputs": [],
   "source": []
  }
 ],
 "metadata": {
  "kernelspec": {
   "display_name": "Python 3",
   "language": "python",
   "name": "python3"
  },
  "language_info": {
   "codemirror_mode": {
    "name": "ipython",
    "version": 3
   },
   "file_extension": ".py",
   "mimetype": "text/x-python",
   "name": "python",
   "nbconvert_exporter": "python",
   "pygments_lexer": "ipython3",
   "version": "3.7.4"
  }
 },
 "nbformat": 4,
 "nbformat_minor": 2
}

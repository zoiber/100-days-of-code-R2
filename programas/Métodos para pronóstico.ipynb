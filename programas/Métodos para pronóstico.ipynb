{
 "cells": [
  {
   "cell_type": "markdown",
   "metadata": {},
   "source": [
    "# Métodos para pronósticos\n",
    "\n",
    "Revisaremos algunos métodos utilizados para pronósticos.\n",
    "Utilizaremos la serie a continución para ilustrar los ejemplos."
   ]
  },
  {
   "cell_type": "code",
   "execution_count": 12,
   "metadata": {},
   "outputs": [],
   "source": [
    "series = [3,10,12,13,12,10,12]"
   ]
  },
  {
   "cell_type": "markdown",
   "metadata": {},
   "source": [
    "## Metodo ingenuo (Naivi)\n",
    "Este es el método de pronóstico más primitivo. La premisa del método ingenuo es que el punto esperado es igual al último punto observado:\n",
    "\n",
    "\\\\(\\widehat{y}_{x+1} = yx \\\\)\n",
    "\n",
    "Con este método, pronosticamos que el siguiente punto será 12"
   ]
  },
  {
   "cell_type": "markdown",
   "metadata": {},
   "source": [
    "## Promedio simple\n",
    "Es el producto aritmético de todos los puntos observados previamente. \n",
    "\n",
    "\\\\( \\widehat{y}_{x+1} = \\frac{1}{X} \\sum_{i=1}^{X} y_{i} \\\\)\n"
   ]
  },
  {
   "cell_type": "code",
   "execution_count": 6,
   "metadata": {},
   "outputs": [],
   "source": [
    "def promedio (series):\n",
    "    return float(sum(series)/len(series))"
   ]
  },
  {
   "cell_type": "code",
   "execution_count": 25,
   "metadata": {},
   "outputs": [
    {
     "data": {
      "text/plain": [
       "10.285714285714286"
      ]
     },
     "execution_count": 25,
     "metadata": {},
     "output_type": "execute_result"
    }
   ],
   "source": [
    "promedio(series)"
   ]
  },
  {
   "cell_type": "markdown",
   "metadata": {},
   "source": [
    "Como método de pronóstico, en realidad hay situaciones en las que es perfecto. Por ejemplo, su calificación final de la escuela puede ser el promedio de todas las calificaciones anteriores."
   ]
  },
  {
   "cell_type": "markdown",
   "metadata": {},
   "source": [
    "## Promedio móvil\n",
    "Una mejora sobre el promedio simple es el promedio de \\\\( n \\\\)  últimos puntos."
   ]
  },
  {
   "cell_type": "code",
   "execution_count": 32,
   "metadata": {},
   "outputs": [],
   "source": [
    "def promedio_movil(series,n):\n",
    "    return(promedio(series[-n:]))"
   ]
  },
  {
   "cell_type": "code",
   "execution_count": 33,
   "metadata": {},
   "outputs": [
    {
     "data": {
      "text/plain": [
       "11.333333333333334"
      ]
     },
     "execution_count": 33,
     "metadata": {},
     "output_type": "execute_result"
    }
   ],
   "source": [
    "promedio_movil(series,3)"
   ]
  },
  {
   "cell_type": "markdown",
   "metadata": {},
   "source": [
    "Un promedio móvil puede ser bastante efectivo, especialmente si elige el valor correcto de \\\\( n \\\\) para la serie. Los analistas de acciones lo adoran."
   ]
  },
  {
   "cell_type": "markdown",
   "metadata": {},
   "source": [
    "Podemos unificarel en un  solo programa el promedio y el promedio móvil"
   ]
  },
  {
   "cell_type": "code",
   "execution_count": 28,
   "metadata": {},
   "outputs": [],
   "source": [
    "def promedio(series,n=None):\n",
    "    if n is None:\n",
    "        return promedio(series, len(series))\n",
    "    return float(sum(series[-n:]))/n"
   ]
  },
  {
   "cell_type": "code",
   "execution_count": 29,
   "metadata": {},
   "outputs": [
    {
     "data": {
      "text/plain": [
       "11.333333333333334"
      ]
     },
     "execution_count": 29,
     "metadata": {},
     "output_type": "execute_result"
    }
   ],
   "source": [
    "promedio(series,3)"
   ]
  },
  {
   "cell_type": "code",
   "execution_count": 30,
   "metadata": {},
   "outputs": [
    {
     "data": {
      "text/plain": [
       "10.285714285714286"
      ]
     },
     "execution_count": 30,
     "metadata": {},
     "output_type": "execute_result"
    }
   ],
   "source": [
    "promedio(series)"
   ]
  },
  {
   "cell_type": "markdown",
   "metadata": {},
   "source": [
    "## Promedio móvil ponderado\n",
    "Un promedio móvil ponderado es un promedio móvil en el que dentro de los valores de la ventana deslizante se les asignan diferentes pesos, por lo general, para que los puntos más recientes sean más importantes. En este [link](https://www.investopedia.com/ask/answers/071414/whats-difference-between-moving-average-and-weighted-moving-average.asp) se explica de mejor manera.\n",
    "\n",
    "Recordemos que la suma de los pesos debe ser igual a 1 (100%). Te en cuenta que los valores más recientes de la serie deben ser multiplicados por los pesos con mayor valor, de esta forma se da más importancia (más peso) a estos valores."
   ]
  },
  {
   "cell_type": "code",
   "execution_count": 52,
   "metadata": {},
   "outputs": [],
   "source": [
    "def promedio_ponderado(series, pesos):\n",
    "    resultado = 0.0\n",
    "    pesos.reverse()\n",
    "    for n in range(len(pesos)):\n",
    "        resultado += series[-n-1]*pesos[n]\n",
    "    return resultado"
   ]
  },
  {
   "cell_type": "code",
   "execution_count": 54,
   "metadata": {},
   "outputs": [
    {
     "data": {
      "text/plain": [
       "11.500000000000002"
      ]
     },
     "execution_count": 54,
     "metadata": {},
     "output_type": "execute_result"
    }
   ],
   "source": [
    "pesos = [0.1, 0.2, 0.3, 0.4] \n",
    "promedio_ponderado(series,pesos)"
   ]
  },
  {
   "cell_type": "code",
   "execution_count": 40,
   "metadata": {},
   "outputs": [
    {
     "data": {
      "text/plain": [
       "7"
      ]
     },
     "execution_count": 40,
     "metadata": {},
     "output_type": "execute_result"
    }
   ],
   "source": []
  },
  {
   "cell_type": "code",
   "execution_count": 48,
   "metadata": {},
   "outputs": [],
   "source": []
  },
  {
   "cell_type": "code",
   "execution_count": null,
   "metadata": {},
   "outputs": [],
   "source": []
  },
  {
   "cell_type": "code",
   "execution_count": null,
   "metadata": {},
   "outputs": [],
   "source": []
  }
 ],
 "metadata": {
  "kernelspec": {
   "display_name": "Python 3",
   "language": "python",
   "name": "python3"
  },
  "language_info": {
   "codemirror_mode": {
    "name": "ipython",
    "version": 3
   },
   "file_extension": ".py",
   "mimetype": "text/x-python",
   "name": "python",
   "nbconvert_exporter": "python",
   "pygments_lexer": "ipython3",
   "version": "3.7.4"
  }
 },
 "nbformat": 4,
 "nbformat_minor": 2
}

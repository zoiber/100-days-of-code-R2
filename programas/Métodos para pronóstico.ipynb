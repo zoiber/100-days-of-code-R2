{
 "cells": [
  {
   "cell_type": "markdown",
   "metadata": {},
   "source": [
    "# Métodos para pronósticos\n",
    "\n",
    "Revisaremos algunos métodos utilizados para pronósticos.\n",
    "Utilizaremos la serie a continución para ilustrar los ejemplos."
   ]
  },
  {
   "cell_type": "code",
   "execution_count": 9,
   "metadata": {},
   "outputs": [],
   "source": [
    "series = [3,10,12,13,12,10,12]"
   ]
  },
  {
   "cell_type": "markdown",
   "metadata": {},
   "source": [
    "## Metodo ingenuo (Naivi)\n",
    "Este es el método de pronóstico más primitivo. La premisa del método ingenuo es que el punto esperado es igual al último punto observado:\n",
    "\n",
    "\\\\(\\widehat{y}_{t+1} = y_t \\\\)\n",
    "\n",
    "Con este método, pronosticamos que el siguiente punto será 12"
   ]
  },
  {
   "cell_type": "markdown",
   "metadata": {},
   "source": [
    "## Promedio simple\n",
    "Es el producto aritmético de todos los puntos observados previamente. \n",
    "\n",
    "\\\\( \\widehat{y}_{t+1} = \\frac{1}{n} \\sum_{i=1}^{n} y_{i} \\\\)\n"
   ]
  },
  {
   "cell_type": "code",
   "execution_count": 10,
   "metadata": {},
   "outputs": [],
   "source": [
    "def promedio (series):\n",
    "    return float(sum(series)/len(series))"
   ]
  },
  {
   "cell_type": "code",
   "execution_count": 11,
   "metadata": {},
   "outputs": [
    {
     "data": {
      "text/plain": [
       "10.285714285714286"
      ]
     },
     "execution_count": 11,
     "metadata": {},
     "output_type": "execute_result"
    }
   ],
   "source": [
    "promedio(series)"
   ]
  },
  {
   "cell_type": "markdown",
   "metadata": {},
   "source": [
    "Como método de pronóstico, en realidad hay situaciones en las que es perfecto. Por ejemplo, su calificación final de la escuela puede ser el promedio de todas las calificaciones anteriores."
   ]
  },
  {
   "cell_type": "markdown",
   "metadata": {},
   "source": [
    "## Promedio móvil\n",
    "Una mejora sobre el promedio simple es el promedio de \\\\( n \\\\)  últimos puntos."
   ]
  },
  {
   "cell_type": "code",
   "execution_count": 12,
   "metadata": {},
   "outputs": [],
   "source": [
    "def promedio_movil(series,n):\n",
    "    return(promedio(series[-n:]))"
   ]
  },
  {
   "cell_type": "code",
   "execution_count": 13,
   "metadata": {},
   "outputs": [
    {
     "data": {
      "text/plain": [
       "11.333333333333334"
      ]
     },
     "execution_count": 13,
     "metadata": {},
     "output_type": "execute_result"
    }
   ],
   "source": [
    "promedio_movil(series,3)"
   ]
  },
  {
   "cell_type": "markdown",
   "metadata": {},
   "source": [
    "Un promedio móvil puede ser bastante efectivo, especialmente si elige el valor correcto de \\\\( n \\\\) para la serie. Los analistas de acciones lo adoran."
   ]
  },
  {
   "cell_type": "markdown",
   "metadata": {},
   "source": [
    "Podemos unificarel en un  solo programa el promedio y el promedio móvil"
   ]
  },
  {
   "cell_type": "code",
   "execution_count": 14,
   "metadata": {},
   "outputs": [],
   "source": [
    "def promedio(series,n=None):\n",
    "    if n is None:\n",
    "        return promedio(series, len(series))\n",
    "    return float(sum(series[-n:]))/n"
   ]
  },
  {
   "cell_type": "code",
   "execution_count": 15,
   "metadata": {},
   "outputs": [
    {
     "data": {
      "text/plain": [
       "11.333333333333334"
      ]
     },
     "execution_count": 15,
     "metadata": {},
     "output_type": "execute_result"
    }
   ],
   "source": [
    "promedio(series,3)"
   ]
  },
  {
   "cell_type": "code",
   "execution_count": 16,
   "metadata": {},
   "outputs": [
    {
     "data": {
      "text/plain": [
       "10.285714285714286"
      ]
     },
     "execution_count": 16,
     "metadata": {},
     "output_type": "execute_result"
    }
   ],
   "source": [
    "promedio(series)"
   ]
  },
  {
   "cell_type": "markdown",
   "metadata": {},
   "source": [
    "## Promedio móvil ponderado\n",
    "Un promedio móvil ponderado es un promedio móvil en el que dentro de los valores de la ventana deslizante se les asignan diferentes pesos, por lo general, para que los puntos más recientes sean más importantes. En este [link](https://www.investopedia.com/ask/answers/071414/whats-difference-between-moving-average-and-weighted-moving-average.asp) se explica de mejor manera.\n",
    "\n",
    "Recordemos que la suma de los pesos debe ser igual a 1 (100%). Te en cuenta que los valores más recientes de la serie deben ser multiplicados por los pesos con mayor valor, de esta forma se da más importancia (más peso) a estos valores."
   ]
  },
  {
   "cell_type": "code",
   "execution_count": 17,
   "metadata": {},
   "outputs": [],
   "source": [
    "def promedio_ponderado(series, pesos):\n",
    "    resultado = 0.0\n",
    "    pesos.reverse()\n",
    "    for n in range(len(pesos)):\n",
    "        resultado += series[-n-1]*pesos[n]\n",
    "    return resultado"
   ]
  },
  {
   "cell_type": "code",
   "execution_count": 18,
   "metadata": {},
   "outputs": [
    {
     "data": {
      "text/plain": [
       "11.500000000000002"
      ]
     },
     "execution_count": 18,
     "metadata": {},
     "output_type": "execute_result"
    }
   ],
   "source": [
    "pesos = [0.1, 0.2, 0.3, 0.4] \n",
    "promedio_ponderado(series,pesos)"
   ]
  },
  {
   "cell_type": "markdown",
   "metadata": {},
   "source": [
    "## Suviazado exponencial único (seu)\n",
    "En los promedios moviles ponderados las observaciones pasadas son ponderas igualitarimente. Es decir, los pesos asignados a las observaciones son los mismos y son iguales a 1/N.\n",
    "\n",
    "Los esquemas de suavizado exponencial ponderan las observaciones pasadas utilizando pesos decrecientes exponencialmente. Aquí se deben determinar (o estimar) uno o más parámetros de suavizado y estas opciones determinan los pesos asignados a las observaciones. \n",
    "[Engineering Statistics Hanbook](https://www.itl.nist.gov/div898/handbook/pmc/section3/pmc324.htm)\n",
    "\n",
    "\\\\(S_0 = Y_0 \\\\)\n",
    "\n",
    "\\\\( S_t = \\alpha\\cdot  y_{t} + (1-\\alpha)\\cdot S_{t-1} \\\\) ; \\\\( 0<\\alpha \\leq 1 \\\\)\n",
    "\n",
    "donde\n",
    "\n",
    "\\\\(S_t\\\\): Valor suavisado\n",
    "\n",
    "\\\\(y_{t-1}\\\\): Obsevación en el tiempo \\\\(t-1\\\\)\n",
    "\n",
    "No hay \\\\(S_0\\\\); la serie suavizada comienza con la versión suavizada de la segunda observación.\n",
    "\n",
    "\\\\(\\alpha \\\\) pueder ser vista como el coeficiente (factor) de suavizado. \n",
    "\n"
   ]
  },
  {
   "cell_type": "markdown",
   "metadata": {},
   "source": [
    "## Forecasting utilizando el suavizado exponencial único.\n",
    "\n",
    "https://www.itl.nist.gov/div898/handbook/pmc/section4/pmc432.htm"
   ]
  },
  {
   "cell_type": "code",
   "execution_count": 92,
   "metadata": {},
   "outputs": [],
   "source": [
    "import numpy as np\n",
    "\n",
    "def seu(series,alfa):\n",
    "    S=np.zeros(len(series))\n",
    "    for t in range(len(series)):\n",
    "        if t == 0:\n",
    "            S[t]=series[t]\n",
    "        else:\n",
    "            S[t] = alfa*series[t] + (1 - alfa)*S[t-1]\n",
    "    return S"
   ]
  },
  {
   "cell_type": "code",
   "execution_count": 93,
   "metadata": {},
   "outputs": [
    {
     "data": {
      "text/plain": [
       "array([ 3.      ,  9.3     , 11.73    , 12.873   , 12.0873  , 10.20873 ,\n",
       "       11.820873])"
      ]
     },
     "execution_count": 93,
     "metadata": {},
     "output_type": "execute_result"
    }
   ],
   "source": [
    "series_suavizada = seu(series,0.9)\n",
    "series_suavizada"
   ]
  },
  {
   "cell_type": "markdown",
   "metadata": {},
   "source": [
    "### Graficamos"
   ]
  },
  {
   "cell_type": "code",
   "execution_count": 94,
   "metadata": {},
   "outputs": [
    {
     "data": {
      "image/png": "[encoded data removed]",
      "text/plain": [
       "<Figure size 1080x504 with 1 Axes>"
      ]
     },
     "metadata": {
      "needs_background": "light"
     },
     "output_type": "display_data"
    }
   ],
   "source": [
    "import matplotlib.pyplot as plt\n",
    "\n",
    "import numpy as np\n",
    "\n",
    "# Tamaño de la figura\n",
    "plt.figure(figsize=(15,7))\n",
    "\n",
    "# Preparamos los datos\n",
    "t = np.arange(0., len(series), 1)\n",
    "t_series = np.array(series)\n",
    "t_suavizado = np.array(series_suavizada)\n",
    "\n",
    "# Graficamos\n",
    "#Estilos de lineas \t[ '-' | '--' | '-.' | ':' | 'steps' | ...]\n",
    "plt.plot(t, t_series, 'rs-', t, t_suavizado, 'bs--') \n",
    "plt.legend(['Series','Suvizado (0.8)' ],loc='upper left',fontsize='x-large')\n",
    "plt.show()"
   ]
  },
  {
   "cell_type": "markdown",
   "metadata": {},
   "source": [
    "### Apliquemos a una serie de tiempo real"
   ]
  },
  {
   "cell_type": "code",
   "execution_count": 97,
   "metadata": {},
   "outputs": [],
   "source": [
    "dir_melbourne = 'data/melb_data.csv'"
   ]
  },
  {
   "cell_type": "code",
   "execution_count": 98,
   "metadata": {},
   "outputs": [],
   "source": [
    "import pandas as pd\n",
    "melbourne_data = pd.read_csv(dir_melbourne) "
   ]
  },
  {
   "cell_type": "code",
   "execution_count": 100,
   "metadata": {},
   "outputs": [],
   "source": [
    "col = melbourne_data.columns"
   ]
  },
  {
   "cell_type": "code",
   "execution_count": 101,
   "metadata": {},
   "outputs": [
    {
     "data": {
      "text/plain": [
       "Index(['Unnamed: 0', 'Suburb', 'Address', 'Rooms', 'Type', 'Price', 'Method',\n",
       "       'SellerG', 'Date', 'Distance', 'Postcode', 'Bedroom2', 'Bathroom',\n",
       "       'Car', 'Landsize', 'BuildingArea', 'YearBuilt', 'CouncilArea',\n",
       "       'Lattitude', 'Longtitude', 'Regionname', 'Propertycount'],\n",
       "      dtype='object')"
      ]
     },
     "execution_count": 101,
     "metadata": {},
     "output_type": "execute_result"
    }
   ],
   "source": [
    "col"
   ]
  },
  {
   "cell_type": "code",
   "execution_count": null,
   "metadata": {},
   "outputs": [],
   "source": []
  }
 ],
 "metadata": {
  "kernelspec": {
   "display_name": "Python 3",
   "language": "python",
   "name": "python3"
  },
  "language_info": {
   "codemirror_mode": {
    "name": "ipython",
    "version": 3
   },
   "file_extension": ".py",
   "mimetype": "text/x-python",
   "name": "python",
   "nbconvert_exporter": "python",
   "pygments_lexer": "ipython3",
   "version": "3.7.4"
  }
 },
 "nbformat": 4,
 "nbformat_minor": 2
}
